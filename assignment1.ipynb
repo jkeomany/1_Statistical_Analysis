{
 "cells": [
  {
   "cell_type": "markdown",
   "metadata": {},
   "source": [
    "## Assignment 1 \n",
    "\n",
    "This assignment is based on the video discussed in module 1.\n",
    "\n",
    "John Rauser ( 2014). Statistics Without the Agonizing Pain. Strata Hadoop 2014. Retrieved from https://www.youtube.com/watch?v=5Dnw46eC-0o\n",
    "\n",
    "(Source: https://www.youtube.com/watch?v=5Dnw46eC-0o )\n",
    "\n",
    "\n",
    "\n",
    "\n",
    " \n",
    "  \n",
    " "
   ]
  },
  {
   "cell_type": "markdown",
   "metadata": {},
   "source": [
    "## Learning outcomes"
   ]
  },
  {
   "cell_type": "markdown",
   "metadata": {},
   "source": [
    "- Use code to work with data\n",
    "- Calculate basic statistical measures \n",
    "- Implement a data simulation by using resampling \n"
   ]
  },
  {
   "cell_type": "markdown",
   "metadata": {},
   "source": [
    "**Question**\n",
    "\n",
    "1. Using the dataset from the video ( _mosquitos_data.csv_) in the folder, write Python code to:\n",
    "\n",
    "    - Create side-by-side boxplots for the number of mosquitos in each group ( _beer vs water) \n",
    "    - What does the graph reveal about the data for both groups?  Is there an association between beer       consumption and attractiveness to mosquitos.\n",
    "    - Calculate basic statistics measures for each group: Mean, median, standard deviation and explain the numbers.\n",
    "\n",
    "2. Write code to implement the data simulation demonstrated in the above mentioned video.  Calculate the probability of obtaining the experiment outcome assuming no association between beer consumption."
   ]
  },
  {
   "cell_type": "markdown",
   "metadata": {},
   "source": [
    "## Hints\n",
    "\n",
    "- Use pandas, matplotlib, or seaborn to plot boxplots in Python. \n",
    "- Label the graphs wherever applicable e.g, title, legend, units etc.\n",
    "\n",
    "\n",
    "\n"
   ]
  },
  {
   "cell_type": "code",
   "execution_count": 55,
   "metadata": {
    "tags": []
   },
   "outputs": [],
   "source": [
    "import pandas as pd\n",
    "import matplotlib.pyplot as plt\n",
    "%matplotlib inline\n",
    "import numpy as np\n",
    "\n",
    "# Question 1\n",
    "# Read the mosquitos dataset\n",
    "df = pd.read_csv('mosquitos_data.csv')\n",
    "\n",
    "# Separate the data into beer and water categories\n",
    "beer_data = df.loc[df[\"Treatment\"] == \"Beer\"]\n",
    "beer_data = beer_data['Response']\n",
    "water_data = df.loc[df[\"Treatment\"] == \"Water\"]\n",
    "water_data = water_data['Response']"
   ]
  },
  {
   "cell_type": "code",
   "execution_count": 84,
   "metadata": {},
   "outputs": [
    {
     "data": {
      "text/plain": [
       "Text(0, 0.5, '# of mosquitos')"
      ]
     },
     "execution_count": 84,
     "metadata": {},
     "output_type": "execute_result"
    },
    {
     "data": {
      "image/png": "[encoded data removed]",
      "text/plain": [
       "<Figure size 432x288 with 1 Axes>"
      ]
     },
     "metadata": {
      "needs_background": "light"
     },
     "output_type": "display_data"
    }
   ],
   "source": [
    "# Combine into 1 dataframe\n",
    "\n",
    "plot_data = [beer_data, water_data]\n",
    "\n",
    "\n",
    "# Plot boxplots of number of mosquitos for beer and water data\n",
    "plt.boxplot(plot_data, labels=['Beer','Water'])\n",
    "plt.title('Attraction of Mosquitoes to Beer vs Water Drinkers')\n",
    "plt.ylabel('# of mosquitos')"
   ]
  },
  {
   "cell_type": "markdown",
   "metadata": {
    "tags": []
   },
   "source": [
    "The graph reveals that those who drank beer were more likely to attract mosquitoes than those who drank water.\n",
    "It also shows that people will still attract mosquitoes regardless if you drink beer or water.\n",
    "There is an association between beer drinking and mosquito attraction.\n"
   ]
  },
  {
   "cell_type": "code",
   "execution_count": 67,
   "metadata": {},
   "outputs": [
    {
     "name": "stdout",
     "output_type": "stream",
     "text": [
      "Mean:  23.6\n",
      "Median: 24.0\n",
      "Standard Deviation:  4.13\n"
     ]
    }
   ],
   "source": [
    "# Beer Statistic Measures\n",
    "print('Mean: ', beer_data.mean())\n",
    "print('Median:', beer_data.median())\n",
    "print('Standard Deviation: ', round(beer_data.std(),2))"
   ]
  },
  {
   "cell_type": "code",
   "execution_count": 70,
   "metadata": {},
   "outputs": [
    {
     "name": "stdout",
     "output_type": "stream",
     "text": [
      "Mean:  19.2\n",
      "Median: 20.0\n",
      "Standard Deviation:  3.67\n"
     ]
    }
   ],
   "source": [
    "# Water Statistic Measures\n",
    "print('Mean: ', round(water_data.mean(),1))\n",
    "print('Median:', water_data.median())\n",
    "print('Standard Deviation: ', round(water_data.std(),2))"
   ]
  },
  {
   "cell_type": "markdown",
   "metadata": {},
   "source": [
    "For the given dataset, the median number of mosquitoes attracted 24 mosquitos for beer and 20 for water. \n",
    "This means the middle value of the list of beer drinkers had 4 more mosquitos than that of water drinkers.\n",
    "Also, the average number of mosquitoes attracted was 23.6 and 19.2 for beer and water drinkers, respectively.\n",
    "This shows how beer drinkers on average attracted more mosquitoes.\n",
    "Standard deviation is a measure of spread of the data. It is clear that beer drinkers had more dispersed attractions to mosquitoes than water drinkers.\n"
   ]
  },
  {
   "cell_type": "code",
   "execution_count": 154,
   "metadata": {},
   "outputs": [
    {
     "name": "stdout",
     "output_type": "stream",
     "text": [
      "The probability that the mean difference is >= 4.4 is 0.0003\n"
     ]
    }
   ],
   "source": [
    "# Question 2\n",
    "# Combine all the data into a single dataframe\n",
    "conc_data = np.append(beer_data,water_data)\n",
    "\n",
    "# Loop the following for 10,000 iterations\n",
    "# Count each time the mean difference is >= 4.4\n",
    "\n",
    "count = 0\n",
    "experiments = 10000\n",
    "for i in range(experiments):\n",
    "    np.random.shuffle(conc_data)\n",
    "\n",
    "    # Split the shuffled sample into a group of 25 and 18 (group a and b, respectively)\n",
    "    group_a = conc_data[0:25]\n",
    "    group_a_mean = group_a.mean()\n",
    "\n",
    "    group_b = conc_data[25:]\n",
    "    group_b_mean = group_b.mean()\n",
    "\n",
    "    # Get the mean difference from group a to group b\n",
    "    mean_diff = group_a_mean - group_b_mean\n",
    "    if mean_diff >= 4.4:\n",
    "        count += 1\n",
    "        \n",
    "# Calculate the probability that the mean difference is >= 4.4\n",
    "\n",
    "print('The probability that the mean difference is >= 4.4 is', count/experiments)"
   ]
  },
  {
   "cell_type": "code",
   "execution_count": null,
   "metadata": {},
   "outputs": [],
   "source": []
  },
  {
   "cell_type": "code",
   "execution_count": null,
   "metadata": {},
   "outputs": [],
   "source": []
  }
 ],
 "metadata": {
  "kernelspec": {
   "display_name": "Python 3 (ipykernel)",
   "language": "python",
   "name": "python3"
  },
  "language_info": {
   "codemirror_mode": {
    "name": "ipython",
    "version": 3
   },
   "file_extension": ".py",
   "mimetype": "text/x-python",
   "name": "python",
   "nbconvert_exporter": "python",
   "pygments_lexer": "ipython3",
   "version": "3.9.12"
  }
 },
 "nbformat": 4,
 "nbformat_minor": 4
}
